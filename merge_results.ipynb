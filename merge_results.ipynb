{
 "cells": [
  {
   "cell_type": "code",
   "execution_count": 20,
   "metadata": {},
   "outputs": [],
   "source": [
    "import pandas as pd\n",
    "from commons import PUBLIC_TEST_PATH, PRIVATE_TEST_PATH\n",
    "from glob import glob\n",
    "import numpy as np\n",
    "\n",
    "REGRESSION_PREDS_PATH = 'results/resnet_regression_preds_MAE_0.45256060988577684' + '.npy'\n",
    "CLASSIFICATION_PREDS_PATH = 'results/resnet_classification_AUC_0.9992603550295859' + '.npy'"
   ]
  },
  {
   "cell_type": "code",
   "execution_count": 3,
   "metadata": {},
   "outputs": [],
   "source": [
    "def get_ids(path):\n",
    "    predict_files = glob(path + '/*')\n",
    "    return [fname.split('/')[-1][:-4] for fname in predict_files]"
   ]
  },
  {
   "cell_type": "code",
   "execution_count": 9,
   "metadata": {},
   "outputs": [],
   "source": [
    "private_len = len(get_ids(PRIVATE_TEST_PATH))\n",
    "ids = get_ids(PRIVATE_TEST_PATH) + get_ids(PUBLIC_TEST_PATH)"
   ]
  },
  {
   "cell_type": "code",
   "execution_count": 21,
   "metadata": {},
   "outputs": [],
   "source": [
    "reg_preds = np.load(REGRESSION_PREDS_PATH)\n",
    "class_preds = np.load(CLASSIFICATION_PREDS_PATH)"
   ]
  },
  {
   "cell_type": "markdown",
   "metadata": {},
   "source": [
    "# Classification distribution"
   ]
  },
  {
   "cell_type": "code",
   "execution_count": 30,
   "metadata": {},
   "outputs": [],
   "source": [
    "def class_distribution(preds, msg):\n",
    "    print(msg)\n",
    "    zeros = (preds == 0).sum()\n",
    "    ones = (preds == 1).sum()\n",
    "    print('Class 0:', zeros)\n",
    "    print('Class 1:', ones)\n",
    "    print()"
   ]
  },
  {
   "cell_type": "code",
   "execution_count": 32,
   "metadata": {},
   "outputs": [
    {
     "name": "stdout",
     "output_type": "stream",
     "text": [
      "Private dataset\n",
      "Class 0: 5371\n",
      "Class 1: 9691\n",
      "\n",
      "Public dataset\n",
      "Class 0: 747\n",
      "Class 1: 755\n",
      "\n"
     ]
    }
   ],
   "source": [
    "class_distribution(class_preds[:private_len], 'Private dataset')\n",
    "class_distribution(class_preds[private_len:], 'Public dataset')"
   ]
  },
  {
   "cell_type": "code",
   "execution_count": 40,
   "metadata": {},
   "outputs": [],
   "source": [
    "values = [1, 3, 6, 10, 20, 30]\n",
    "\n",
    "def round_values(arr):\n",
    "    return np.array([values[np.argmin(np.abs(values - x))] for x in arr])\n",
    "\n",
    "def regression_distribution(preds, msg):\n",
    "    print(msg)\n",
    "    for value in values:\n",
    "        cnt = (preds == value).sum()\n",
    "        print('Value %s: %s' % (value, cnt))\n",
    "    print()"
   ]
  },
  {
   "cell_type": "code",
   "execution_count": 41,
   "metadata": {},
   "outputs": [],
   "source": [
    "round_reg_preds = round_values(reg_preds)"
   ]
  },
  {
   "cell_type": "code",
   "execution_count": 42,
   "metadata": {},
   "outputs": [
    {
     "name": "stdout",
     "output_type": "stream",
     "text": [
      "Private dataset\n",
      "Value 1: 2457\n",
      "Value 3: 2432\n",
      "Value 6: 3544\n",
      "Value 10: 1594\n",
      "Value 20: 4221\n",
      "Value 30: 814\n",
      "\n",
      "Public dataset\n",
      "Value 1: 251\n",
      "Value 3: 249\n",
      "Value 6: 252\n",
      "Value 10: 250\n",
      "Value 20: 250\n",
      "Value 30: 250\n",
      "\n"
     ]
    }
   ],
   "source": [
    "regression_distribution(round_reg_preds[:private_len], 'Private dataset')\n",
    "regression_distribution(round_reg_preds[private_len:], 'Public dataset')"
   ]
  },
  {
   "cell_type": "code",
   "execution_count": 49,
   "metadata": {},
   "outputs": [],
   "source": [
    "d = pd.DataFrame(data={'id': ids, \n",
    "                   'classification_predictions': class_preds, \n",
    "                   'regression_predictions': round_reg_preds})\n",
    "d.to_csv('first_sub.csv', index=False)"
   ]
  }
 ],
 "metadata": {
  "kernelspec": {
   "display_name": "Python 3",
   "language": "python",
   "name": "python3"
  },
  "language_info": {
   "codemirror_mode": {
    "name": "ipython",
    "version": 3
   },
   "file_extension": ".py",
   "mimetype": "text/x-python",
   "name": "python",
   "nbconvert_exporter": "python",
   "pygments_lexer": "ipython3",
   "version": "3.6.9"
  }
 },
 "nbformat": 4,
 "nbformat_minor": 4
}
