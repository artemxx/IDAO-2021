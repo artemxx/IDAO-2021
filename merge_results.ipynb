{
 "cells": [
  {
   "cell_type": "code",
   "execution_count": 20,
   "metadata": {},
   "outputs": [],
   "source": [
    "import pandas as pd\n",
    "from commons import PUBLIC_TEST_PATH, PRIVATE_TEST_PATH\n",
    "from glob import glob\n",
    "import numpy as np\n",
    "\n",
    "REGRESSION_PREDS_PATH = 'results/resnet_regression_preds_MAE_0.45256060988577684' + '.npy'\n",
    "CLASSIFICATION_PREDS_PATH = 'results/resnet_classification_AUC_0.9992603550295859' + '.npy'"
   ]
  },
  {
   "cell_type": "code",
   "execution_count": 3,
   "metadata": {},
   "outputs": [],
   "source": [
    "def get_ids(path):\n",
    "    predict_files = glob(path + '/*')\n",
    "    return [fname.split('/')[-1][:-4] for fname in predict_files]"
   ]
  },
  {
   "cell_type": "code",
   "execution_count": 9,
   "metadata": {},
   "outputs": [],
   "source": [
    "private_len = len(get_ids(PRIVATE_TEST_PATH))\n",
    "ids = get_ids(PRIVATE_TEST_PATH) + get_ids(PUBLIC_TEST_PATH)"
   ]
  },
  {
   "cell_type": "code",
   "execution_count": 21,
   "metadata": {},
   "outputs": [],
   "source": [
    "reg_preds = np.load(REGRESSION_PREDS_PATH)\n",
    "class_preds = np.load(CLASSIFICATION_PREDS_PATH)"
   ]
  },
  {
   "cell_type": "markdown",
   "metadata": {},
   "source": [
    "# Classification distribution"
   ]
  },
  {
   "cell_type": "code",
   "execution_count": 30,
   "metadata": {},
   "outputs": [],
   "source": [
    "def class_distribution(preds, msg):\n",
    "    print(msg)\n",
    "    zeros = (preds == 0).sum()\n",
    "    ones = (preds == 1).sum()\n",
    "    print('Class 0:', zeros)\n",
    "    print('Class 1:', ones)\n",
    "    print()"
   ]
  },
  {
   "cell_type": "code",
   "execution_count": 32,
   "metadata": {},
   "outputs": [
    {
     "name": "stdout",
     "output_type": "stream",
     "text": [
      "Private dataset\n",
      "Class 0: 5371\n",
      "Class 1: 9691\n",
      "\n",
      "Public dataset\n",
      "Class 0: 747\n",
      "Class 1: 755\n",
      "\n"
     ]
    }
   ],
   "source": [
    "class_distribution(class_preds[:private_len], 'Private dataset')\n",
    "class_distribution(class_preds[private_len:], 'Public dataset')"
   ]
  },
  {
   "cell_type": "code",
   "execution_count": 40,
   "metadata": {},
   "outputs": [],
   "source": [
    "values = [1, 3, 6, 10, 20, 30]\n",
    "\n",
    "def round_values(arr):\n",
    "    return np.array([values[np.argmin(np.abs(values - x))] for x in arr])\n",
    "\n",
    "def regression_distribution(preds, msg):\n",
    "    print(msg)\n",
    "    for value in values:\n",
    "        cnt = (preds == value).sum()\n",
    "        print('Value %s: %s' % (value, cnt))\n",
    "    print()"
   ]
  },
  {
   "cell_type": "code",
   "execution_count": 41,
   "metadata": {},
   "outputs": [],
   "source": [
    "round_reg_preds = round_values(reg_preds)"
   ]
  },
  {
   "cell_type": "code",
   "execution_count": 42,
   "metadata": {},
   "outputs": [
    {
     "name": "stdout",
     "output_type": "stream",
     "text": [
      "Private dataset\n",
      "Value 1: 2457\n",
      "Value 3: 2432\n",
      "Value 6: 3544\n",
      "Value 10: 1594\n",
      "Value 20: 4221\n",
      "Value 30: 814\n",
      "\n",
      "Public dataset\n",
      "Value 1: 251\n",
      "Value 3: 249\n",
      "Value 6: 252\n",
      "Value 10: 250\n",
      "Value 20: 250\n",
      "Value 30: 250\n",
      "\n"
     ]
    }
   ],
   "source": [
    "regression_distribution(round_reg_preds[:private_len], 'Private dataset')\n",
    "regression_distribution(round_reg_preds[private_len:], 'Public dataset')"
   ]
  },
  {
   "cell_type": "code",
   "execution_count": 49,
   "metadata": {},
   "outputs": [],
   "source": [
    "d = pd.DataFrame(data={'id': ids, \n",
    "                   'classification_predictions': class_preds, \n",
    "                   'regression_predictions': round_reg_preds})\n",
    "d.to_csv('first_sub.csv', index=False)"
   ]
  },
  {
   "cell_type": "code",
   "execution_count": 51,
   "metadata": {},
   "outputs": [
    {
     "data": {
      "text/html": [
       "<div>\n",
       "<style scoped>\n",
       "    .dataframe tbody tr th:only-of-type {\n",
       "        vertical-align: middle;\n",
       "    }\n",
       "\n",
       "    .dataframe tbody tr th {\n",
       "        vertical-align: top;\n",
       "    }\n",
       "\n",
       "    .dataframe thead th {\n",
       "        text-align: right;\n",
       "    }\n",
       "</style>\n",
       "<table border=\"1\" class=\"dataframe\">\n",
       "  <thead>\n",
       "    <tr style=\"text-align: right;\">\n",
       "      <th></th>\n",
       "      <th>id</th>\n",
       "      <th>classification_predictions</th>\n",
       "      <th>regression_predictions</th>\n",
       "    </tr>\n",
       "  </thead>\n",
       "  <tbody>\n",
       "    <tr>\n",
       "      <th>0</th>\n",
       "      <td>1999e69cd9d1da60e44b360d71cb0171b32bb4c7</td>\n",
       "      <td>0</td>\n",
       "      <td>3</td>\n",
       "    </tr>\n",
       "    <tr>\n",
       "      <th>1</th>\n",
       "      <td>4cb5e266378c41c8aea39c6b4ce57235c93df154</td>\n",
       "      <td>1</td>\n",
       "      <td>10</td>\n",
       "    </tr>\n",
       "    <tr>\n",
       "      <th>2</th>\n",
       "      <td>d688af9245789c85d88bbe66c7fe4c04673b93ee</td>\n",
       "      <td>1</td>\n",
       "      <td>6</td>\n",
       "    </tr>\n",
       "    <tr>\n",
       "      <th>3</th>\n",
       "      <td>57a4695d4998abccd2a148e3dae394a3a030d0cf</td>\n",
       "      <td>1</td>\n",
       "      <td>20</td>\n",
       "    </tr>\n",
       "    <tr>\n",
       "      <th>4</th>\n",
       "      <td>66cc231c2e63635ee0f43af211ab72984aa629bd</td>\n",
       "      <td>1</td>\n",
       "      <td>20</td>\n",
       "    </tr>\n",
       "  </tbody>\n",
       "</table>\n",
       "</div>"
      ],
      "text/plain": [
       "                                         id  classification_predictions  \\\n",
       "0  1999e69cd9d1da60e44b360d71cb0171b32bb4c7                           0   \n",
       "1  4cb5e266378c41c8aea39c6b4ce57235c93df154                           1   \n",
       "2  d688af9245789c85d88bbe66c7fe4c04673b93ee                           1   \n",
       "3  57a4695d4998abccd2a148e3dae394a3a030d0cf                           1   \n",
       "4  66cc231c2e63635ee0f43af211ab72984aa629bd                           1   \n",
       "\n",
       "   regression_predictions  \n",
       "0                       3  \n",
       "1                      10  \n",
       "2                       6  \n",
       "3                      20  \n",
       "4                      20  "
      ]
     },
     "execution_count": 51,
     "metadata": {},
     "output_type": "execute_result"
    }
   ],
   "source": [
    "pd.read_csv('first_sub.csv').head()"
   ]
  },
  {
   "cell_type": "code",
   "execution_count": 52,
   "metadata": {},
   "outputs": [
    {
     "data": {
      "text/html": [
       "<div>\n",
       "<style scoped>\n",
       "    .dataframe tbody tr th:only-of-type {\n",
       "        vertical-align: middle;\n",
       "    }\n",
       "\n",
       "    .dataframe tbody tr th {\n",
       "        vertical-align: top;\n",
       "    }\n",
       "\n",
       "    .dataframe thead th {\n",
       "        text-align: right;\n",
       "    }\n",
       "</style>\n",
       "<table border=\"1\" class=\"dataframe\">\n",
       "  <thead>\n",
       "    <tr style=\"text-align: right;\">\n",
       "      <th></th>\n",
       "      <th>id</th>\n",
       "      <th>classification_predictions</th>\n",
       "      <th>regression_predictions</th>\n",
       "    </tr>\n",
       "  </thead>\n",
       "  <tbody>\n",
       "    <tr>\n",
       "      <th>0</th>\n",
       "      <td>9a8b8bfc7a06afd346ff1c88f1f7a03316a9bc76</td>\n",
       "      <td>1</td>\n",
       "      <td>1</td>\n",
       "    </tr>\n",
       "    <tr>\n",
       "      <th>1</th>\n",
       "      <td>2caa5748f814bbdbc64f4db43d7412ce359a777b</td>\n",
       "      <td>1</td>\n",
       "      <td>1</td>\n",
       "    </tr>\n",
       "    <tr>\n",
       "      <th>2</th>\n",
       "      <td>b879970a23fc2a3b093bce85096808f13eaa69fb</td>\n",
       "      <td>1</td>\n",
       "      <td>1</td>\n",
       "    </tr>\n",
       "    <tr>\n",
       "      <th>3</th>\n",
       "      <td>a4d3cb5abbdc11518bb67ae7f2c415de808effb3</td>\n",
       "      <td>1</td>\n",
       "      <td>1</td>\n",
       "    </tr>\n",
       "    <tr>\n",
       "      <th>4</th>\n",
       "      <td>df8de9207196305057f73cea03d265ba720cb6e1</td>\n",
       "      <td>1</td>\n",
       "      <td>1</td>\n",
       "    </tr>\n",
       "    <tr>\n",
       "      <th>...</th>\n",
       "      <td>...</td>\n",
       "      <td>...</td>\n",
       "      <td>...</td>\n",
       "    </tr>\n",
       "    <tr>\n",
       "      <th>16559</th>\n",
       "      <td>abf7d8d23e2ddbdf57dd57a8e05dcf7c35e45dbc</td>\n",
       "      <td>1</td>\n",
       "      <td>1</td>\n",
       "    </tr>\n",
       "    <tr>\n",
       "      <th>16560</th>\n",
       "      <td>3a57415aba7f845d2f2d5e76a98cacb529a85b42</td>\n",
       "      <td>1</td>\n",
       "      <td>1</td>\n",
       "    </tr>\n",
       "    <tr>\n",
       "      <th>16561</th>\n",
       "      <td>4fdc090ecae60cd6acafab0fe4595026bd12ddd1</td>\n",
       "      <td>1</td>\n",
       "      <td>1</td>\n",
       "    </tr>\n",
       "    <tr>\n",
       "      <th>16562</th>\n",
       "      <td>8ae49b7aaef7a31756b77402a48358b8e93bef07</td>\n",
       "      <td>1</td>\n",
       "      <td>1</td>\n",
       "    </tr>\n",
       "    <tr>\n",
       "      <th>16563</th>\n",
       "      <td>175d57b4c98cff14cd7de39e96b3d383fd6272d2</td>\n",
       "      <td>1</td>\n",
       "      <td>1</td>\n",
       "    </tr>\n",
       "  </tbody>\n",
       "</table>\n",
       "<p>16564 rows × 3 columns</p>\n",
       "</div>"
      ],
      "text/plain": [
       "                                             id  classification_predictions  \\\n",
       "0      9a8b8bfc7a06afd346ff1c88f1f7a03316a9bc76                           1   \n",
       "1      2caa5748f814bbdbc64f4db43d7412ce359a777b                           1   \n",
       "2      b879970a23fc2a3b093bce85096808f13eaa69fb                           1   \n",
       "3      a4d3cb5abbdc11518bb67ae7f2c415de808effb3                           1   \n",
       "4      df8de9207196305057f73cea03d265ba720cb6e1                           1   \n",
       "...                                         ...                         ...   \n",
       "16559  abf7d8d23e2ddbdf57dd57a8e05dcf7c35e45dbc                           1   \n",
       "16560  3a57415aba7f845d2f2d5e76a98cacb529a85b42                           1   \n",
       "16561  4fdc090ecae60cd6acafab0fe4595026bd12ddd1                           1   \n",
       "16562  8ae49b7aaef7a31756b77402a48358b8e93bef07                           1   \n",
       "16563  175d57b4c98cff14cd7de39e96b3d383fd6272d2                           1   \n",
       "\n",
       "       regression_predictions  \n",
       "0                           1  \n",
       "1                           1  \n",
       "2                           1  \n",
       "3                           1  \n",
       "4                           1  \n",
       "...                       ...  \n",
       "16559                       1  \n",
       "16560                       1  \n",
       "16561                       1  \n",
       "16562                       1  \n",
       "16563                       1  \n",
       "\n",
       "[16564 rows x 3 columns]"
      ]
     },
     "execution_count": 52,
     "metadata": {},
     "output_type": "execute_result"
    }
   ],
   "source": [
    "pd.read_csv('track1_predictions_example.csv')"
   ]
  }
 ],
 "metadata": {
  "kernelspec": {
   "display_name": "Python 3",
   "language": "python",
   "name": "python3"
  },
  "language_info": {
   "codemirror_mode": {
    "name": "ipython",
    "version": 3
   },
   "file_extension": ".py",
   "mimetype": "text/x-python",
   "name": "python",
   "nbconvert_exporter": "python",
   "pygments_lexer": "ipython3",
   "version": "3.6.9"
  }
 },
 "nbformat": 4,
 "nbformat_minor": 4
}
